{
 "cells": [
  {
   "cell_type": "markdown",
   "metadata": {},
   "source": [
    "# 剑指offer学习总结（Python实现）\n",
    "\n",
    "## 目录\n",
    "\n",
    "- [1.二维数组的查找](#1.二维数组的查找)\n",
    "- [2.替换空格](#2.替换空格)\n",
    "- [3.从头到尾打印链表](#3.从头到尾打印链表)\n",
    "- [4.重建二叉树](#4.重建二叉树)\n",
    "- [5.用两个栈来实现队列](#5.用两个栈来实现队列)\n",
    "- [6.旋转数组的最小数字](#6.旋转数组的最小数字)\n",
    "- [7.斐波那契数列](#7.斐波那契数列)\n",
    "- [8.跳台阶](#8.跳台阶)\n",
    "- [9.变态跳台阶](#9.变态跳台阶)\n",
    "- [10.矩形覆盖](#10.矩形覆盖)\n",
    "- [11.二进制中1的个数](#11.二进制中1的个数)\n",
    "- [12.数值的整数次方](#12.数值的整数次方)\n",
    "- [13.调整数组顺序使奇数位于偶数前面](#13.调整数组顺序使奇数位于偶数前面)\n",
    "- [14.链表中倒数第k个结点](#14.链表中倒数第k个结点)\n",
    "- [15.反转链表](#15.反转链表)\n",
    "- [16.合并两个排序的链表](#16.合并两个排序的链表)\n",
    "- [17.树的子结构](#17.树的子结构)\n",
    "- [18.二叉树的镜像](#18.二叉树的镜像)\n",
    "- [19.顺时针打印矩阵](#19.顺时针打印矩阵)\n",
    "- [20.包含min函数的栈](#20.包含min函数的栈)\n",
    "- [21.栈的压入、弹出序列](#20.栈的压入、弹出序列)"
   ]
  },
  {
   "cell_type": "markdown",
   "metadata": {},
   "source": [
    "## 1.二维数组的查找\n",
    "\n",
    "- **问题描述**：在一个二维数组中，每一行都按照从左到右递增的顺序排序，每一列都按照从上到下递增的顺序排序。请完成一个函数，输入这样的一个二维数组和一个整数，判断数组中是否含有该整数。\n",
    "- **思路**：从右上角开始判断，若小于则在左边，大于则在下面。直到找完。\n",
    "- **优点**：区域不会重合\n",
    "- **时间复杂度**：$O(m+n)$"
   ]
  },
  {
   "cell_type": "code",
   "execution_count": 1,
   "metadata": {},
   "outputs": [],
   "source": [
    "def Find(target, array):\n",
    "    # 2-d array size: m * n\n",
    "    m = len(array)\n",
    "    n = len(array[0])\n",
    "    j = n-1\n",
    "    i = 0\n",
    "    while i < m and j >= 0:\n",
    "        if array[i][j] == target:\n",
    "            return True\n",
    "        elif array[i][j] < target:\n",
    "            i += 1\n",
    "        else:\n",
    "            j -= 1\n",
    "        \n",
    "    return False"
   ]
  },
  {
   "cell_type": "code",
   "execution_count": 2,
   "metadata": {},
   "outputs": [
    {
     "data": {
      "text/plain": [
       "True"
      ]
     },
     "execution_count": 2,
     "metadata": {},
     "output_type": "execute_result"
    }
   ],
   "source": [
    "Find(7, [[1, 2, 8, 9], [2, 4, 9, 12], [4, 7, 10, 13], [6, 8, 11, 15]])"
   ]
  },
  {
   "cell_type": "markdown",
   "metadata": {},
   "source": [
    "## 2.替换空格\n",
    "\n",
    "- **问题描述**：将一个字符串中的每个空格替换成“%20”。例如，当字符串为We Are Happy.则经过替换之后的字符串为We%20Are%20Happy。\n",
    "- **思路**：首先判断输入类型，减少bug。 使用append一次遍历替换\n",
    "- **时间复杂度**：$O(n)$"
   ]
  },
  {
   "cell_type": "code",
   "execution_count": 3,
   "metadata": {},
   "outputs": [],
   "source": [
    "def replaceSpaceByAppend(s):\n",
    "    if not isinstance(s, str) or len(s) <=0 or s == None:\n",
    "        return \"\"\n",
    "    \n",
    "    s = list(s) # 转换为列表\n",
    "    stringReplace = []\n",
    "    for item in s:\n",
    "        if item == ' ':\n",
    "            stringReplace.append('%20')\n",
    "        else:\n",
    "            stringReplace.append(item)\n",
    "            \n",
    "    return \"\".join(stringReplace)# 转换为整个字符串"
   ]
  },
  {
   "cell_type": "code",
   "execution_count": 4,
   "metadata": {},
   "outputs": [
    {
     "name": "stdout",
     "output_type": "stream",
     "text": [
      "we%20are%20happy\n"
     ]
    }
   ],
   "source": [
    "s = 'we are happy'\n",
    "print(replaceSpaceByAppend(s))"
   ]
  },
  {
   "cell_type": "markdown",
   "metadata": {},
   "source": [
    "## 3.从头到尾打印链表\n",
    "\n",
    "- **问题描述**：输入一个链表，按链表值从尾到头的顺序返回一个ArrayList。\n",
    "- **思路**：使用一个栈，保存正序遍历的值。\n",
    "- **时间复杂度**：$O(n)$"
   ]
  },
  {
   "cell_type": "code",
   "execution_count": 5,
   "metadata": {},
   "outputs": [],
   "source": [
    "class ListNode:\n",
    "    def __init__(self, x=None):\n",
    "        self.val = x\n",
    "        self.next = None\n",
    "\n",
    "def printListFromTailToHead(listNode):\n",
    "    stack = []\n",
    "    while listNode != None:\n",
    "        stack.append(listNode.val)\n",
    "        listNode = listNode.next\n",
    "    return stack[::-1] # 返回栈的反序"
   ]
  },
  {
   "cell_type": "code",
   "execution_count": 6,
   "metadata": {},
   "outputs": [
    {
     "name": "stdout",
     "output_type": "stream",
     "text": [
      "[3, 2, 1]\n"
     ]
    }
   ],
   "source": [
    "l1 = ListNode(1)\n",
    "l2 = ListNode(2)\n",
    "l3 = ListNode(3)\n",
    "l1.next = l2\n",
    "l2.next = l3\n",
    "print (printListFromTailToHead(l1))"
   ]
  },
  {
   "cell_type": "markdown",
   "metadata": {},
   "source": [
    "## 4.重建二叉树\n",
    "\n",
    "- **问题描述**：输入某二叉树的前序遍历和中序遍历的结果，请重建出该二叉树。假设输入的前序遍历和中序遍历的结果中都不含重复的数字。例如输入前序遍历序列{1,2,4,7,3,5,6,8}和中序遍历序列{4,7,2,1,5,3,8,6}，则重建出二叉树并输出它的头结点。\n",
    "- **思路**：根据中序遍历和前序遍历可以很快找到（左子树，根，右子树）的分割，用递归实现。前序遍历的第一个值一定为根节点，对应于中序遍历中间的一个点。在中序遍历序列中，这个点左侧的均为根的左子树，这个点右侧的均为根的右子树。这时可以利用递归，分别取前序遍历[1:i+1]和中序遍历的[:i]对应与左子树继续上一个过程，取前序遍历[i+1:]和中序遍历[i+1]对应于右子树继续上一个过程，最终得以重建二叉树。\n",
    "- **优点**：思路简单清晰。\n",
    "- **扩展**: [address](http://www.cnblogs.com/fzhe/archive/2013/01/07/2849040.html)"
   ]
  },
  {
   "cell_type": "code",
   "execution_count": 7,
   "metadata": {},
   "outputs": [],
   "source": [
    "class TreeNode:\n",
    "    def __init__(self, x):\n",
    "        self.val = x\n",
    "        self.left = None\n",
    "        self.right = None\n",
    "\n",
    "\n",
    "def reConstructBinaryTree(pre, tin):\n",
    "    if not pre or not tin:\n",
    "        return None\n",
    "    root = TreeNode(pre.pop(0)) # 1 in this case.\n",
    "    index = tin.index(root.val) # 3 in this case, the location of root in 中序\n",
    "    root.left = reConstructBinaryTree(pre, tin[:index])\n",
    "    root.right = reConstructBinaryTree(pre, tin[index + 1:])\n",
    "    return root\n",
    "    \n",
    "def print_tree(root_node):\n",
    "    \"\"\"层次遍历输出\"\"\"\n",
    "    travers = []\n",
    "    queue = [root_node] # 可以使用len()\n",
    "    while len(queue) > 0:\n",
    "        farther = queue.pop() # queue 传给 farther\n",
    "        travers.append(farther.val)\n",
    "        if farther:\n",
    "            if farther.left:\n",
    "                queue.insert(0, farther.left)\n",
    "            if farther.right:\n",
    "                queue.insert(0, farther.right)\n",
    "    print(travers)"
   ]
  },
  {
   "cell_type": "code",
   "execution_count": 8,
   "metadata": {},
   "outputs": [
    {
     "name": "stdout",
     "output_type": "stream",
     "text": [
      "[1, 2, 3, 4, 5, 6, 7, 8]\n"
     ]
    }
   ],
   "source": [
    "pre = [1,2,4,7,3,5,6,8]\n",
    "tin = [4,7,2,1,5,3,8,6]\n",
    "print_tree(reConstructBinaryTree(pre, tin))"
   ]
  },
  {
   "cell_type": "markdown",
   "metadata": {},
   "source": [
    "## 5.用两个栈实现队列\n",
    "\n",
    "- **问题描述**：用两个栈来实现一个队列，完成队列的Push和Pop操作。 队列中的元素为int类型。\n",
    "- **思路**：需要两个栈Stack1和Stack2，push的时候直接push进Stack1。pop需要判断Stack1和Stack2中元素的情况，Stack1空的话，直接从Stack2 pop，Stack1不空的话，把Stack1的元素push进入Stack2，然后pop Stack2的值。"
   ]
  },
  {
   "cell_type": "code",
   "execution_count": 9,
   "metadata": {},
   "outputs": [],
   "source": [
    "class Solution:\n",
    "    def __init__(self):\n",
    "        self.stack1 = []\n",
    "        self.stack2 = []\n",
    "    \n",
    "    def push(self, node):\n",
    "        self.stack1.append(node)\n",
    "        \n",
    "    def pop(self):\n",
    "        if len(self.stack2) == 0 and len(self.stack1) == 0:\n",
    "            return\n",
    "        \n",
    "        elif len(self.stack2) == 0:\n",
    "            while len(self.stack1) > 0:\n",
    "                self.stack2.append(self.stack1.pop()) #此处的pop是list的pop， class定义的pop函数则是私有函数，在下面测试时调用\n",
    "        return self.stack2.pop()"
   ]
  },
  {
   "cell_type": "code",
   "execution_count": 10,
   "metadata": {},
   "outputs": [
    {
     "name": "stdout",
     "output_type": "stream",
     "text": [
      "10\n",
      "11\n",
      "12\n",
      "13\n",
      "None\n"
     ]
    }
   ],
   "source": [
    "P = Solution()\n",
    "P.push(10)\n",
    "P.push(11)\n",
    "P.push(12)\n",
    "print(P.pop())\n",
    "P.push(13)\n",
    "print(P.pop())\n",
    "print(P.pop())\n",
    "print(P.pop())\n",
    "print(P.pop())"
   ]
  },
  {
   "cell_type": "markdown",
   "metadata": {},
   "source": [
    "## 6.旋转数组的最小数字\n",
    "\n",
    "- **问题描述**：把一个数组最开始的若干个元素搬到数组的末尾，我们称之为数组的旋转。 输入一个非减排序的数组的一个旋转，输出旋转数组的最小元素。 例如数组{3,4,5,1,2}为{1,2,3,4,5}的一个旋转，该数组的最小值为1。 NOTE：给出的所有元素都大于0，若数组大小为0，请返回0。\n",
    "- **思路**：二分查找的变形，注意到旋转数组的首元素肯定不小于旋转数组的尾元素，设置中间点。如果中间点大于首元素，说明最小数字在后面一半，如果中间点小于尾元素，说明最小数字在前一半。依次循环。同时，当一次循环中首元素小于尾元素，说明最小值就是首元素。但是当首元素等于尾元素等于中间值，只能在这个区域顺序查找。\n",
    "- **别的思路**:python中可以直接用min()直接输出最小值，或者先排序再输出列表第一个值(这两个方法更快)"
   ]
  },
  {
   "cell_type": "code",
   "execution_count": 11,
   "metadata": {},
   "outputs": [],
   "source": [
    "class Solution1:\n",
    "    def minNumberInRotateArray(self, rotateArray):\n",
    "        # write code here\n",
    "        if not rotateArray:\n",
    "            return 0\n",
    "        else:\n",
    "            return min(rotateArray)\n",
    "\n",
    "\n",
    "class Solution2:\n",
    "    def minNumberInRotateArray(self, rotateArray):\n",
    "        # write code here\n",
    "        if not rotateArray:\n",
    "            return 0\n",
    "        else:\n",
    "            rotateArray.sort()\n",
    "            return rotateArray[0]\n",
    "        \n",
    "class Solution:\n",
    "    def minNumberInRotateArray(self, rotateArray):\n",
    "        if len(rotateArray) == 0:\n",
    "            return 0\n",
    "        front = 0\n",
    "        rear = len(rotateArray) - 1\n",
    "        minVal = rotateArray[0]\n",
    "        if rotateArray[front] < rotateArray[rear]:\n",
    "            return rotateArray[front]\n",
    "        else:\n",
    "            while (rear - front) > 1:\n",
    "                mid = (rear + front)//2\n",
    "                if rotateArray[mid] > rotateArray[rear]:\n",
    "                    front = mid\n",
    "                elif rotateArray[mid] < rotateArray[front]:\n",
    "                    rear = mid\n",
    "                elif rotateArray[mid] == rotateArray[front] and rotateArray[front] == rotateArray[rear]:\n",
    "                    for i in range(1, len(rotateArray)):\n",
    "                        if rotateArray[i] < minVal:\n",
    "                            minVal = rotateArray[i]\n",
    "                            rear = i\n",
    "            minVal = rotateArray[rear]\n",
    "            return minVal"
   ]
  },
  {
   "cell_type": "code",
   "execution_count": 12,
   "metadata": {},
   "outputs": [
    {
     "name": "stdout",
     "output_type": "stream",
     "text": [
      "1\n",
      "1\n",
      "0\n",
      "0\n",
      "0\n",
      "1\n"
     ]
    }
   ],
   "source": [
    "Test = Solution()\n",
    "print(Test.minNumberInRotateArray([3, 4, 5, 1, 2]))\n",
    "print(Test.minNumberInRotateArray([1, 2, 3, 4, 5]))\n",
    "print(Test.minNumberInRotateArray([1, 1, 1, 0, 1]))\n",
    "print(Test.minNumberInRotateArray([1, 0, 1, 1, 1]))\n",
    "print(Test.minNumberInRotateArray([]))\n",
    "print(Test.minNumberInRotateArray([1]))"
   ]
  },
  {
   "cell_type": "markdown",
   "metadata": {},
   "source": [
    "## 7.斐波那契数列\n",
    "\n",
    "- **问题描述**：大家都知道[斐波那契数列](https://baike.baidu.com/item/%E6%96%90%E6%B3%A2%E9%82%A3%E5%A5%91%E6%95%B0%E5%88%97)，现在要求输入一个整数n，请你输出斐波那契数列的第n项（从0开始，第0项为0）。n<=39\n",
    "- **思路**：递归重复计算的部分太多了，花费太大。使用迭代的方法来求出答案。\n",
    "- **时间复杂度**：$O(n)$"
   ]
  },
  {
   "cell_type": "code",
   "execution_count": 13,
   "metadata": {},
   "outputs": [],
   "source": [
    "class Solution:\n",
    "    def Fibonacci(self, n):\n",
    "        if n < 0:\n",
    "            return\n",
    "        elif n == 0:\n",
    "            return 0\n",
    "        elif n == 1 or n == 2:\n",
    "            return 1\n",
    "        else:\n",
    "            current_num = 1\n",
    "            pre_num = 0\n",
    "            \n",
    "            for i in range(2,n + 1):\n",
    "                result = current_num + pre_num\n",
    "                pre_num = current_num\n",
    "                current_num = result\n",
    "        return result           "
   ]
  },
  {
   "cell_type": "code",
   "execution_count": 14,
   "metadata": {},
   "outputs": [
    {
     "name": "stdout",
     "output_type": "stream",
     "text": [
      "0\n",
      "1\n",
      "1\n",
      "2\n",
      "3\n",
      "5\n",
      "8\n"
     ]
    }
   ],
   "source": [
    "test = Solution()\n",
    "print(test.Fibonacci(0))\n",
    "print(test.Fibonacci(1))\n",
    "print(test.Fibonacci(2))\n",
    "print(test.Fibonacci(3))\n",
    "print(test.Fibonacci(4))\n",
    "print(test.Fibonacci(5))\n",
    "print(test.Fibonacci(6))"
   ]
  },
  {
   "cell_type": "markdown",
   "metadata": {},
   "source": [
    "## 8.跳台阶\n",
    "\n",
    "- **问题描述**：一只青蛙一次可以跳上1级台阶，也可以跳上2级。求该青蛙跳上一个n级的台阶总共有多少种跳法（先后次序不同算不同的结果）。\n",
    "- **思路**：对于第n个台阶来说，只能从n-1或者n-2的台阶跳上来，所以F(n) = F(n-1) + F(n-2)，属于初始条件不同的斐波拉契数序列\n",
    "- **时间复杂度**：$O(n)$"
   ]
  },
  {
   "cell_type": "code",
   "execution_count": 15,
   "metadata": {},
   "outputs": [],
   "source": [
    "class Solution:\n",
    "    def jumpFloor(self, number):\n",
    "        if number <= 0:\n",
    "            return\n",
    "        elif number == 1 or number == 2:\n",
    "            return number\n",
    "        else:\n",
    "            current_num = 2\n",
    "            pre_num = 1\n",
    "            \n",
    "            for i in range(2,number):\n",
    "                result = current_num + pre_num\n",
    "                pre_num = current_num\n",
    "                current_num = result\n",
    "        return result           "
   ]
  },
  {
   "cell_type": "code",
   "execution_count": 16,
   "metadata": {},
   "outputs": [
    {
     "name": "stdout",
     "output_type": "stream",
     "text": [
      "None\n",
      "1\n",
      "2\n",
      "3\n",
      "5\n",
      "8\n",
      "13\n"
     ]
    }
   ],
   "source": [
    "test = Solution()\n",
    "print(test.jumpFloor(0))\n",
    "print(test.jumpFloor(1))\n",
    "print(test.jumpFloor(2))\n",
    "print(test.jumpFloor(3))\n",
    "print(test.jumpFloor(4))\n",
    "print(test.jumpFloor(5))\n",
    "print(test.jumpFloor(6))"
   ]
  },
  {
   "cell_type": "markdown",
   "metadata": {},
   "source": [
    "## 9.变态跳台阶\n",
    "\n",
    "- **问题描述**：一只青蛙一次可以跳上1级台阶，也可以跳上2级……它也可以跳上n级。求该青蛙跳上一个n级的台阶总共有多少种跳法。\n",
    "- **思路**：每个台阶都有跳与不跳两种情况（除了最后一个台阶），最后一个台阶必须跳。所以共用$2^{n-1}$种情况，所要求的序列为：0,1,2,4,8,16,……"
   ]
  },
  {
   "cell_type": "code",
   "execution_count": 17,
   "metadata": {},
   "outputs": [],
   "source": [
    "class Solution:\n",
    "    def jumpFloorII(self, number):\n",
    "        if number < 0:\n",
    "            return\n",
    "        elif number == 0:\n",
    "            return 0\n",
    "        else:\n",
    "            return pow(2, number - 1)"
   ]
  },
  {
   "cell_type": "code",
   "execution_count": 18,
   "metadata": {},
   "outputs": [
    {
     "name": "stdout",
     "output_type": "stream",
     "text": [
      "0\n",
      "1\n",
      "2\n",
      "4\n",
      "8\n",
      "16\n"
     ]
    }
   ],
   "source": [
    "test = Solution()\n",
    "print(test.jumpFloorII(0))\n",
    "print(test.jumpFloorII(1))\n",
    "print(test.jumpFloorII(2))\n",
    "print(test.jumpFloorII(3))\n",
    "print(test.jumpFloorII(4))\n",
    "print(test.jumpFloorII(5))"
   ]
  },
  {
   "cell_type": "markdown",
   "metadata": {},
   "source": [
    "## 10.矩形覆盖\n",
    "\n",
    "- **问题描述**：我们可以用2\\*1的小矩形横着或者竖着去覆盖更大的矩形。请问用n个2\\*1的小矩形无重叠地覆盖一个2\\*n的大矩形，总共有多少种方法？\n",
    "- **思路**：画图分析规律可知是一个斐波那契数列类似的题目 f(n) = f(n - 1) + f(n - 2)\n",
    "![image](https://raw.githubusercontent.com/Trouble404/JianZhi-offer-python3/master/readme/10.png)"
   ]
  },
  {
   "cell_type": "code",
   "execution_count": 19,
   "metadata": {},
   "outputs": [],
   "source": [
    "# -*- coding:utf-8 -*-\n",
    "class Solution:\n",
    "    def rectCover(self, number):\n",
    "        number = int(number)\n",
    "        if number < 0:\n",
    "            return\n",
    "        elif number == 0:\n",
    "            return 0\n",
    "        elif number == 1:\n",
    "            return 1\n",
    "        elif number == 2:\n",
    "            return 2\n",
    "        else:\n",
    "            current_num = 2\n",
    "            pre_num = 1\n",
    "            \n",
    "            for i in range(3,number + 1):\n",
    "                result = current_num + pre_num\n",
    "                pre_num = current_num\n",
    "                current_num = result\n",
    "        return result  "
   ]
  },
  {
   "cell_type": "code",
   "execution_count": 20,
   "metadata": {},
   "outputs": [
    {
     "name": "stdout",
     "output_type": "stream",
     "text": [
      "0\n",
      "1\n",
      "2\n",
      "3\n",
      "5\n",
      "8\n"
     ]
    }
   ],
   "source": [
    "test = Solution()\n",
    "print(test.rectCover(0))\n",
    "print(test.rectCover(1))\n",
    "print(test.rectCover(2))\n",
    "print(test.rectCover(3))\n",
    "print(test.rectCover(4))\n",
    "print(test.rectCover(5))"
   ]
  },
  {
   "cell_type": "markdown",
   "metadata": {},
   "source": [
    "## 11.二进制中1的个数\n",
    "\n",
    "- **问题描述**：输入一个整数，输出该数二进制表示中1的个数。其中负数用补码表示。\n",
    "- **思路**：如果一个整数不为0，那么这个整数至少有一位是1。如果我们把这个整数减1，那么原来处在整数最右边的1就会变为0，原来在1后面的所有的0都会变成1(如果最右边的1后面还有0的话)。其余所有位将不会受到影响。举个例子：一个二进制数1100，从右边数起第三位是处于最右边的一个1。减去1后，第三位变成0，它后面的两位0变成了1，而前面的1保持不变，因此得到的结果是1011.我们发现减1的结果是把最右边的一个1开始的所有位都取反了。这个时候如果我们再把原来的整数和减去1之后的结果做与运算，从原来整数最右边一个1那一位开始所有位都会变成0。如1100&1011=1000.也就是说，把一个整数减去1，再和原整数做**与**运算，会把该整数最右边一个1变成0.那么一个整数的二进制有多少个1，就可以进行多少次这样的操作。"
   ]
  },
  {
   "cell_type": "code",
   "execution_count": 21,
   "metadata": {},
   "outputs": [],
   "source": [
    "class Solution:\n",
    "    def NumberOf1(self, n):\n",
    "        count = 0\n",
    "        if n < 0:\n",
    "            n = n & 0xffffffff # 负数是补码表示所以需要与0xffffffff相与消除负数补码的影响\n",
    "        while n:\n",
    "            count += 1\n",
    "            n = (n-1)&n # 与运算\n",
    "        return count"
   ]
  },
  {
   "cell_type": "code",
   "execution_count": 22,
   "metadata": {},
   "outputs": [
    {
     "name": "stdout",
     "output_type": "stream",
     "text": [
      "32\n"
     ]
    }
   ],
   "source": [
    "S = Solution()\n",
    "print(S.NumberOf1(-1))"
   ]
  },
  {
   "cell_type": "markdown",
   "metadata": {},
   "source": [
    "## 12.数值的整数次方\n",
    "\n",
    "- **问题描述**：给定一个double类型的浮点数base和int类型的整数exponent。求base的exponent次方。\n",
    "- **思路**：当指数为负数的时候,当底数为零切指数为负数的情况, 在判断底数base是不是等于0的时候,不能直接写base==0, 因为计算机内表示小数时有误差,只能判断他们的差的绝对值是不是在一个很小的范围内\n",
    "\n",
    "    当n为偶数, a^n = a^(n/2) * a^(n/2)\n",
    " \n",
    "    当n为奇数, a^n = a^((n-1)/2) * a^((n-1)/2)) * a\n",
    "\n",
    "    利用右移一位运算代替除以2, 利用位与运算代替了求余运算法%来判断一个数是奇数还是偶数, 优化代码速度\n",
    "    \n",
    "    或者python 直接 ** 运算"
   ]
  },
  {
   "cell_type": "code",
   "execution_count": 23,
   "metadata": {},
   "outputs": [],
   "source": [
    "class Solution:\n",
    "    def Power(self, base, exponent):\n",
    "        if exponent == 0:\n",
    "            return 1\n",
    "        if exponent == 1:\n",
    "            return base\n",
    "        if exponent == -1:\n",
    "            return 1/base\n",
    "        \n",
    "        e = abs(exponent)\n",
    "        tmp = base\n",
    "        res = 1\n",
    "        while (e > 0):\n",
    "            #如果最后一位为1，那么给res乘上这一位的结果\n",
    "            if (e & 1 == 1):\n",
    "                res = res * tmp\n",
    "            e = e >> 1 # 除以2\n",
    "            tmp = tmp * tmp\n",
    "            \n",
    "        if exponent > 0:\n",
    "            return res\n",
    "        else:\n",
    "            return 1/res \n",
    "\n",
    "    def Power_python(self, base, exponent):\n",
    "        # write code here\n",
    "        return base**exponent"
   ]
  },
  {
   "cell_type": "code",
   "execution_count": 24,
   "metadata": {},
   "outputs": [
    {
     "name": "stdout",
     "output_type": "stream",
     "text": [
      "0.0625\n",
      "0.0625\n"
     ]
    }
   ],
   "source": [
    "S = Solution()\n",
    "print(S.Power(2, -4))\n",
    "print(S.Power_python(2, -4))"
   ]
  },
  {
   "cell_type": "markdown",
   "metadata": {},
   "source": [
    "## 13.调整数组顺序使奇数位于偶数前面\n",
    "\n",
    "- **问题描述**：输入一个整数数组，实现一个函数来调整该数组中数字的顺序，使得所有的奇数位于数组的前半部分，所有的偶数位于数组的后半部分，并保证奇数和奇数，偶数和偶数之间的相对位置不变。\n",
    "- **思路**：奇数放入奇数数列，偶数放入偶数数列"
   ]
  },
  {
   "cell_type": "code",
   "execution_count": 25,
   "metadata": {},
   "outputs": [],
   "source": [
    "class Solution:\n",
    "    def reOrderArray(self, array):\n",
    "        odd,even=[],[]\n",
    "        for i in array:\n",
    "            odd.append(i) if i%2==1 else even.append(i)\n",
    "        return odd+even"
   ]
  },
  {
   "cell_type": "code",
   "execution_count": 26,
   "metadata": {},
   "outputs": [
    {
     "name": "stdout",
     "output_type": "stream",
     "text": [
      "[-1, -3, -5, 7, 9, 2, 4, -6, 8, 10, -10]\n"
     ]
    }
   ],
   "source": [
    "S = Solution()\n",
    "print(S.reOrderArray([-1, 2, -3, 4, -5, -6, 7, 8, 9, 10, -10]))"
   ]
  },
  {
   "cell_type": "markdown",
   "metadata": {},
   "source": [
    "## 14.链表中倒数第k个结点\n",
    "\n",
    "- **问题描述**：输入一个链表，输出该链表中倒数第k个结点。\n",
    "- **思路**：Python 设置两个指针，p1，p2，先让p2走k-1步，然后再一起走，直到p2为最后一个 时，p1即为倒数第k个节点 "
   ]
  },
  {
   "cell_type": "code",
   "execution_count": 27,
   "metadata": {},
   "outputs": [],
   "source": [
    "class ListNode:\n",
    "    def __init__(self, x):\n",
    "        self.val = x\n",
    "        self.next = None"
   ]
  },
  {
   "cell_type": "code",
   "execution_count": 28,
   "metadata": {},
   "outputs": [],
   "source": [
    "class Solution:\n",
    "    def FindKthToTail(self, head, k):\n",
    "        # write code here\n",
    "        if head==None or k<=0:\n",
    "            return None\n",
    "        #设置两个指针，p2指针先走（k-1）步，然后再一起走，当p2为最后一个时，p1就为倒数第k个 数\n",
    "        p2=head\n",
    "        p1=head\n",
    "        #p2先走，走k-1步，如果k大于链表长度则返回 空，否则的话继续走\n",
    "        while k>1:\n",
    "            if p2.next!=None:\n",
    "                p2=p2.next\n",
    "                k-=1\n",
    "            else:\n",
    "                return None\n",
    "#两个指针一起 走，一直到p2为最后一个,p1即为所求\n",
    "        while p2.next!=None:\n",
    "            p1=p1.next\n",
    "            p2=p2.next\n",
    "        return p1"
   ]
  },
  {
   "cell_type": "code",
   "execution_count": 29,
   "metadata": {},
   "outputs": [
    {
     "name": "stdout",
     "output_type": "stream",
     "text": [
      "11\n"
     ]
    }
   ],
   "source": [
    "node1 = ListNode(10)\n",
    "node2 = ListNode(11)\n",
    "node3 = ListNode(13)\n",
    "node1.next = node2\n",
    "node2.next = node3\n",
    "\n",
    "S = Solution()\n",
    "print(S.FindKthToTail(node1, 2).val)"
   ]
  },
  {
   "cell_type": "markdown",
   "metadata": {},
   "source": [
    "## 15.反转链表\n",
    "\n",
    "- **问题描述**：输入一个链表，反转链表后，输出新链表的表头。\n",
    "- **思路**：1->2->3->4->5，遍历链表，把1的next置为None，2的next置为1，以此类推，5的next置为4。得到反转链表。"
   ]
  },
  {
   "cell_type": "code",
   "execution_count": 30,
   "metadata": {},
   "outputs": [],
   "source": [
    "class ListNode:\n",
    "    def __init__(self, x):\n",
    "        self.val = x\n",
    "        self.next = None"
   ]
  },
  {
   "cell_type": "code",
   "execution_count": 31,
   "metadata": {},
   "outputs": [],
   "source": [
    "class Solution:\n",
    "    # 返回ListNode\n",
    "    def ReverseList(self, pHead):\n",
    "        # write code here\n",
    "        if pHead==None or pHead.next==None:\n",
    "            return pHead\n",
    "        pre = None\n",
    "        cur = pHead\n",
    "        while cur!=None:\n",
    "            tmp = cur.next\n",
    "            cur.next = pre\n",
    "            pre = cur\n",
    "            cur = tmp\n",
    "        return pre"
   ]
  },
  {
   "cell_type": "code",
   "execution_count": 32,
   "metadata": {},
   "outputs": [
    {
     "name": "stdout",
     "output_type": "stream",
     "text": [
      "13\n"
     ]
    }
   ],
   "source": [
    "node1 = ListNode(10)\n",
    "node2 = ListNode(11)\n",
    "node3 = ListNode(13)\n",
    "node1.next = node2\n",
    "node2.next = node3\n",
    "\n",
    "S = Solution()\n",
    "print(S.ReverseList(node1).val)"
   ]
  },
  {
   "cell_type": "markdown",
   "metadata": {},
   "source": [
    "## 16.合并两个排序的链表\n",
    "\n",
    "- **问题描述**：输入两个单调递增的链表，输出两个链表合成后的链表，当然我们需要合成后的链表满足单调不减规则。\n",
    "- **思路**：要注意特殊输入，如果输入是空链表，不能崩溃。分为非递归法和递归法"
   ]
  },
  {
   "cell_type": "code",
   "execution_count": 33,
   "metadata": {},
   "outputs": [],
   "source": [
    "class ListNode:\n",
    "    def __init__(self, x):\n",
    "        self.val = x\n",
    "        self.next = None"
   ]
  },
  {
   "cell_type": "code",
   "execution_count": 34,
   "metadata": {},
   "outputs": [],
   "source": [
    "class Solution:\n",
    "    # return merged list\n",
    "    def Merge_1(self, pHead1, pHead2):\n",
    "        #init\n",
    "        tmp = ListNode(0)\n",
    "        pHead = tmp\n",
    "        while pHead1 and pHead2:\n",
    "            if pHead1.val < pHead2.val:\n",
    "                tmp.next = pHead1\n",
    "                pHead1 = pHead1.next\n",
    "            else:\n",
    "                tmp.next = pHead2\n",
    "                pHead2 = pHead2.next\n",
    "            tmp = tmp.next\n",
    "        if not pHead1:\n",
    "            tmp.next = pHead2\n",
    "        if not pHead2:\n",
    "            tmp.next = pHead1\n",
    "        return pHead.next\n",
    "    \n",
    "    def Merge(self, pHead1, pHead2):\n",
    "        if pHead1 == None:\n",
    "            return pHead2\n",
    "        elif pHead2 == None:\n",
    "            return pHead1\n",
    "\n",
    "        pMergedHead = None\n",
    "        if pHead1.val < pHead2.val:\n",
    "            pMergedHead = pHead1\n",
    "            pMergedHead.next = self.Merge(pHead1.next, pHead2)\n",
    "        else:\n",
    "            pMergedHead = pHead2\n",
    "            pMergedHead.next = self.Merge(pHead1, pHead2.next)\n",
    "\n",
    "        return pMergedHead"
   ]
  },
  {
   "cell_type": "code",
   "execution_count": 35,
   "metadata": {},
   "outputs": [],
   "source": [
    "node1 = ListNode(1)\n",
    "node2 = ListNode(3)\n",
    "node3 = ListNode(5)\n",
    "node1.next = node2\n",
    "node2.next = node3\n",
    "\n",
    "node4 = ListNode(2)\n",
    "node5 = ListNode(4)\n",
    "node6 = ListNode(6)\n",
    "node4.next = node5\n",
    "node5.next = node6"
   ]
  },
  {
   "cell_type": "code",
   "execution_count": 36,
   "metadata": {},
   "outputs": [
    {
     "name": "stdout",
     "output_type": "stream",
     "text": [
      "3\n"
     ]
    }
   ],
   "source": [
    "S = Solution()\n",
    "S.Merge_1(node1, node4)\n",
    "print(node4.next.val)"
   ]
  },
  {
   "cell_type": "code",
   "execution_count": 37,
   "metadata": {},
   "outputs": [
    {
     "name": "stdout",
     "output_type": "stream",
     "text": [
      "2\n"
     ]
    }
   ],
   "source": [
    "S = Solution()\n",
    "S.Merge(node1, node4)\n",
    "print(node4.next.val)"
   ]
  },
  {
   "cell_type": "markdown",
   "metadata": {},
   "source": [
    "## 17.树的子结构\n",
    "\n",
    "- **问题描述**：输入两棵二叉树A，B，判断B是不是A的子结构。（ps：我们约定空树不是任意一个树的子结构）\n",
    "- **思路**：通常对于查找树中某一个节点，我们都是采用递归的方法来遍历整棵树。第二步就是判断树A中以R为根节点的子树是不是和树B具有相同的结构。这里同样利用到了递归的方法，如果节点R的值和树的根节点不相同，则以R为根节点的子树和树B肯定不具有相同的节点；如果它们值是相同的，则递归的判断各自的左右节点的值是不是相同。递归的终止条件是我们达到了树A或者树B的叶节点。"
   ]
  },
  {
   "cell_type": "code",
   "execution_count": 38,
   "metadata": {},
   "outputs": [],
   "source": [
    "class TreeNode:\n",
    "    def __init__(self, x):\n",
    "        self.val = x\n",
    "        self.left = None\n",
    "        self.right = None"
   ]
  },
  {
   "cell_type": "code",
   "execution_count": 39,
   "metadata": {},
   "outputs": [],
   "source": [
    "class Solution:\n",
    "    def HasSubtree(self, pRoot1, pRoot2):\n",
    "        result = False\n",
    "        # 都不为空的话再去判断，因为空树不是任意一个树的子树\n",
    "        if pRoot1 != None and pRoot2 != None:\n",
    "            # 相等，则进入另外一个函数递归判断\n",
    "            if pRoot1.val == pRoot2.val:\n",
    "                result = self.DoesTree1haveTree2(pRoot1, pRoot2)\n",
    "            # 上面个不符合条件的话，则继续找下一个相等的结点，再去遍历\n",
    "            if not result:\n",
    "                result = self.HasSubtree(pRoot1.left, pRoot2)\n",
    "            if not result:\n",
    "                result = self.HasSubtree(pRoot1.right, pRoot2)\n",
    "        return result\n",
    "    # 用于递归判断树的每个节点是否相同\n",
    "    # 需要注意的地方是: 前两个if语句不可以颠倒顺序\n",
    "    # 如果颠倒顺序, 会先判断pRoot1是否为None, 其实这个时候pRoot2的结点已经遍历完成确定相等了, 但是返回了False, 判断错误\n",
    "    def DoesTree1haveTree2(self, pRoot1, pRoot2):\n",
    "        # 递归出口1：子树已经判断完毕了则结束，表明整个过程都为true，最终返回true\n",
    "        if pRoot2 == None:\n",
    "            return True\n",
    "        # 递归出口2：子树还没空，父树先走到空了，那么肯定是不是子树结构的\n",
    "        if pRoot1 == None:\n",
    "            return False\n",
    "        # 递归出口3：两个数的结点值不相等的话停止\n",
    "        if pRoot1.val != pRoot2.val:\n",
    "            return False\n",
    "        # 递归\n",
    "        return self.DoesTree1haveTree2(pRoot1.left, pRoot2.left) and self.DoesTree1haveTree2(pRoot1.right, pRoot2.right)"
   ]
  },
  {
   "cell_type": "code",
   "execution_count": 40,
   "metadata": {},
   "outputs": [],
   "source": [
    "pRoot1 = TreeNode(8)\n",
    "pRoot2 = TreeNode(8)\n",
    "pRoot3 = TreeNode(7)\n",
    "pRoot4 = TreeNode(9)\n",
    "pRoot5 = TreeNode(2)\n",
    "pRoot6 = TreeNode(4)\n",
    "pRoot7 = TreeNode(7)\n",
    "pRoot1.left = pRoot2\n",
    "pRoot1.right = pRoot3\n",
    "pRoot2.left = pRoot4\n",
    "pRoot2.right = pRoot5\n",
    "pRoot5.left = pRoot6\n",
    "pRoot5.right = pRoot7\n",
    "\n",
    "pRoot8 = TreeNode(8)\n",
    "pRoot9 = TreeNode(9)\n",
    "pRoot10 = TreeNode(2)\n",
    "pRoot8.left = pRoot9\n",
    "pRoot8.right = pRoot10"
   ]
  },
  {
   "cell_type": "code",
   "execution_count": 41,
   "metadata": {},
   "outputs": [
    {
     "name": "stdout",
     "output_type": "stream",
     "text": [
      "True\n"
     ]
    }
   ],
   "source": [
    "S = Solution()\n",
    "print(S.HasSubtree(pRoot1, pRoot8))"
   ]
  },
  {
   "cell_type": "markdown",
   "metadata": {},
   "source": [
    "## 18.二叉树的镜像\n",
    "\n",
    "- **问题描述**：操作给定的二叉树，将其变换为源二叉树的镜像。![image](https://raw.githubusercontent.com/Trouble404/JianZhi-offer-python3/master/readme/jingxiang.png)\n",
    "- **思路**："
   ]
  },
  {
   "cell_type": "code",
   "execution_count": 42,
   "metadata": {},
   "outputs": [],
   "source": [
    "class TreeNode:\n",
    "    def __init__(self, x):\n",
    "        self.val = x\n",
    "        self.left = None\n",
    "        self.right = None"
   ]
  },
  {
   "cell_type": "code",
   "execution_count": 43,
   "metadata": {},
   "outputs": [],
   "source": [
    "class Solution:\n",
    "    def Mirror(self, root):\n",
    "        if root: #如果存在根节点\n",
    "            root.left, root.right = root.right, root.left #根节点左右交换\n",
    "            self.Mirror(root.left) # 递归调用左节点\n",
    "            self.Mirror(root.right) # 递归调用右节点\n",
    "            return root\n",
    "        else:\n",
    "            return"
   ]
  },
  {
   "cell_type": "code",
   "execution_count": 44,
   "metadata": {},
   "outputs": [],
   "source": [
    "pNode1 = TreeNode(8)\n",
    "pNode2 = TreeNode(6)\n",
    "pNode3 = TreeNode(10)\n",
    "pNode4 = TreeNode(5)\n",
    "pNode5 = TreeNode(7)\n",
    "pNode6 = TreeNode(9)\n",
    "pNode7 = TreeNode(11)\n",
    "\n",
    "pNode1.left = pNode2\n",
    "pNode1.right = pNode3\n",
    "pNode2.left = pNode4\n",
    "pNode2.right = pNode5\n",
    "pNode3.left = pNode6\n",
    "pNode3.right = pNode7"
   ]
  },
  {
   "cell_type": "code",
   "execution_count": 45,
   "metadata": {},
   "outputs": [
    {
     "name": "stdout",
     "output_type": "stream",
     "text": [
      "7\n"
     ]
    }
   ],
   "source": [
    "S = Solution()\n",
    "S.Mirror(pNode1)\n",
    "print(pNode1.right.left.val)"
   ]
  },
  {
   "cell_type": "markdown",
   "metadata": {},
   "source": [
    "# 19.顺时针打印矩阵\n",
    "\n",
    "- **问题描述**：输入一个矩阵，按照从外向里以顺时针的顺序依次打印出每一个数字，例如，如果输入如下4 X 4矩阵:\n",
    "<br>\n",
    " 1 2 3 4 \n",
    " <br>\n",
    " 5 6 7 8\n",
    " <br> \n",
    " 9 10 11 12\n",
    " <br>\n",
    "13 14 15 16\n",
    "<br> \n",
    "则依次打印出数字1,2,3,4,8,12,16,15,14,13,9,5,6,7,11,10.\n",
    "<br>\n",
    "- **思路**: 打印一行后删除当前行且旋转矩阵"
   ]
  },
  {
   "cell_type": "code",
   "execution_count": 46,
   "metadata": {},
   "outputs": [],
   "source": [
    "import numpy as np\n",
    "\n",
    "class Solution:\n",
    "    def printMatrix(self, matrix):\n",
    "        while len(matrix) > 0:\n",
    "            for each in matrix[0]:\n",
    "                print(each)\n",
    "            matrix.pop(0)\n",
    "            matrix = list(zip(*matrix))[::-1]\n",
    "\n",
    "    def printMatrixArray(self, matrix):\n",
    "        matrix = np.array(matrix)\n",
    "        while matrix.shape[0] > 0:\n",
    "            row = matrix[0, :]\n",
    "            for each in row:\n",
    "                print(each)\n",
    "            matrix = np.rot90(matrix[1:, :], k=1)"
   ]
  },
  {
   "cell_type": "code",
   "execution_count": 47,
   "metadata": {
    "tags": []
   },
   "outputs": [
    {
     "name": "stdout",
     "output_type": "stream",
     "text": [
      "1\n",
      "2\n",
      "3\n",
      "4\n",
      "8\n",
      "12\n",
      "16\n",
      "15\n",
      "14\n",
      "13\n",
      "9\n",
      "5\n",
      "6\n",
      "7\n",
      "11\n",
      "10\n",
      "\n",
      "\n",
      "1\n",
      "2\n",
      "3\n",
      "4\n",
      "8\n",
      "12\n",
      "16\n",
      "15\n",
      "14\n",
      "13\n",
      "9\n",
      "5\n",
      "6\n",
      "7\n",
      "11\n",
      "10\n"
     ]
    }
   ],
   "source": [
    "S = Solution()\n",
    "S.printMatrix([[1,2,3,4], [5,6,7,8], [9,10,11,12], [13,14,15,16]])\n",
    "print('\\n')\n",
    "S.printMatrixArray([[1,2,3,4], [5,6,7,8], [9,10,11,12], [13,14,15,16]])"
   ]
  },
  {
   "cell_type": "markdown",
   "metadata": {},
   "source": [
    "# 20.包含min函数的栈\n",
    "\n",
    "- **问题描述**：定义栈的数据结构，请在该类型中实现一个能够得到栈中所含最小元素的min函数（时间复杂度应为O（1））。\n",
    "<br>\n",
    "- **思路**: 空间复杂度换时间复杂度(空间复杂度O(n), 时间复杂度O(1))"
   ]
  },
  {
   "cell_type": "code",
   "execution_count": 48,
   "metadata": {},
   "outputs": [],
   "source": [
    "class Solution:\n",
    "    def __init__(self):\n",
    "        self.stack = []\n",
    "        self.min_stack = []\n",
    "        self.minnum = float('inf')\n",
    "\n",
    "    def push(self, node):\n",
    "        if node < self.minnum:\n",
    "            self.minnum = node\n",
    "            self.min_stack.append(self.minnum)\n",
    "        self.stack.append(node)\n",
    "\n",
    "    def pop(self):\n",
    "        if self.stack is not None:\n",
    "            if self.stack[-1] == self.minnum:\n",
    "                self.min_stack.pop()\n",
    "            self.stack.pop()\n",
    "\n",
    "    def top(self):\n",
    "        if self.stack is not None:\n",
    "            return self.stack[-1]\n",
    "        else:\n",
    "            return None\n",
    "\n",
    "    def min(self):\n",
    "        print(self.min_stack[-1])\n",
    "        return self.min_stack[-1]"
   ]
  },
  {
   "cell_type": "code",
   "execution_count": 49,
   "metadata": {},
   "outputs": [
    {
     "name": "stdout",
     "output_type": "stream",
     "text": [
      "3\n",
      "3\n",
      "2\n",
      "2\n",
      "2\n",
      "3\n",
      "3\n",
      "0\n"
     ]
    },
    {
     "data": {
      "text/plain": [
       "0"
      ]
     },
     "execution_count": 49,
     "metadata": {},
     "output_type": "execute_result"
    }
   ],
   "source": [
    "S = Solution()\n",
    "S.push(3)\n",
    "S.min()\n",
    "S.push(4)\n",
    "S.min()\n",
    "S.push(2)\n",
    "S.min()\n",
    "S.push(3)\n",
    "S.min()\n",
    "S.pop()\n",
    "S.min()\n",
    "S.pop()\n",
    "S.min()\n",
    "S.pop()\n",
    "S.min()\n",
    "S.push(0)\n",
    "S.min()"
   ]
  },
  {
   "cell_type": "markdown",
   "metadata": {},
   "source": [
    "# 21.栈的压入、弹出序列\n",
    "\n",
    "- **问题描述**：输入两个整数序列，第一个序列表示栈的压入顺序，请判断第二个序列是否可能为该栈的弹出顺序。假设压入栈的所有数字均不相等。例如序列[1,2,3,4,5]是某栈的压入顺序，序列[4,5,3,2,1]是该压栈序列对应的一个弹出序列，但[4,3,5,1,2]就不可能是该压栈序列的弹出序列。（注意：这两个序列的长度是相等的）\n",
    "<br>\n",
    "- **思路**: 如果下一个弹出的数字刚好是栈顶数字，那么直接弹出。如果下个弹出的数字不在栈顶，把压栈序列中还没有入栈的数字压入辅助栈，直到把下一个需要弹出的数字压入栈顶为止。如果所有的数字都压入栈了仍没有找到下一个弹出的数字，则该序列不可能是一个弹出序列"
   ]
  },
  {
   "cell_type": "code",
   "execution_count": 50,
   "metadata": {},
   "outputs": [],
   "source": [
    "class Solution:\n",
    "    def IsPopOrder(self, pushV, popV):\n",
    "        stack = []\n",
    "        index = 0\n",
    "        while pushV:\n",
    "            stack.append(pushV.pop(0))\n",
    "            while stack and stack[-1] == popV[index]:\n",
    "                stack.pop(-1)\n",
    "                index += 1\n",
    "        return not stack"
   ]
  },
  {
   "cell_type": "code",
   "execution_count": 51,
   "metadata": {},
   "outputs": [
    {
     "data": {
      "text/plain": [
       "True"
      ]
     },
     "execution_count": 51,
     "metadata": {},
     "output_type": "execute_result"
    }
   ],
   "source": [
    "S = Solution()\n",
    "S.IsPopOrder([1,2,3,4,5], [4,5,3,2,1])"
   ]
  },
  {
   "cell_type": "code",
   "execution_count": null,
   "metadata": {},
   "outputs": [],
   "source": []
  },
  {
   "cell_type": "code",
   "execution_count": null,
   "metadata": {},
   "outputs": [],
   "source": []
  }
 ],
 "metadata": {
  "kernelspec": {
   "display_name": "Python 3",
   "language": "python",
   "name": "python3"
  },
  "language_info": {
   "codemirror_mode": {
    "name": "ipython",
    "version": 3
   },
   "file_extension": ".py",
   "mimetype": "text/x-python",
   "name": "python",
   "nbconvert_exporter": "python",
   "pygments_lexer": "ipython3",
   "version": "3.7.6"
  }
 },
 "nbformat": 4,
 "nbformat_minor": 2
}
