{
 "cells": [
  {
   "cell_type": "markdown",
   "metadata": {},
   "source": [
    "# 剑指offer学习总结（Python实现）\n",
    "\n",
    "## 目录\n",
    "\n",
    "- [用到的数据结构](#用到的数据结构)\n",
    "- [1.二维数组的查找](#1.二维数组的查找)\n",
    "- [2.替换空格](#2.替换空格)\n",
    "- [3.从头到尾打印链表](#3.从头到尾打印链表)\n",
    "- [4.重建二叉树](#4.重建二叉树)"
   ]
  },
  {
   "cell_type": "code",
   "execution_count": 1,
   "metadata": {},
   "outputs": [],
   "source": [
    "from data_structure import *"
   ]
  },
  {
   "cell_type": "markdown",
   "metadata": {},
   "source": [
    "## 1.二维数组的查找\n",
    "\n",
    "- **问题描述**：在一个二维数组中，每一行都按照从左到右递增的顺序排序，每一列都按照从上到下递增的顺序排序。请完成一个函数，输入这样的一个二维数组和一个整数，判断数组中是否含有该整数。\n",
    "- **思路**：从右上角开始判断，若小于则在左边，大于则在下面。直到找完。\n",
    "- **优点**：区域不会重合\n",
    "- **时间复杂度**：$O(m+n)$"
   ]
  },
  {
   "cell_type": "code",
   "execution_count": 2,
   "metadata": {},
   "outputs": [],
   "source": [
    "def Find(target, array):\n",
    "    # 2-d array size: m * n\n",
    "    m = len(array)\n",
    "    n = len(array[0])\n",
    "    j = n-1\n",
    "    i = 0\n",
    "    while i < m and j >= 0:\n",
    "        if array[i][j] == target:\n",
    "            return True\n",
    "        elif array[i][j] < target:\n",
    "            i += 1\n",
    "        else:\n",
    "            j -= 1\n",
    "        \n",
    "    return False"
   ]
  },
  {
   "cell_type": "code",
   "execution_count": 3,
   "metadata": {},
   "outputs": [
    {
     "data": {
      "text/plain": [
       "True"
      ]
     },
     "execution_count": 3,
     "metadata": {},
     "output_type": "execute_result"
    }
   ],
   "source": [
    "Find(7, [[1, 2, 8, 9], [2, 4, 9, 12], [4, 7, 10, 13], [6, 8, 11, 15]])"
   ]
  },
  {
   "cell_type": "markdown",
   "metadata": {},
   "source": [
    "## 2.替换空格\n",
    "\n",
    "- **问题描述**：将一个字符串中的每个空格替换成“%20”。例如，当字符串为We Are Happy.则经过替换之后的字符串为We%20Are%20Happy。\n",
    "- **思路**：首先判断输入类型，减少bug。 使用append一次遍历替换\n",
    "- **时间复杂度**：$O(n)$"
   ]
  },
  {
   "cell_type": "code",
   "execution_count": 4,
   "metadata": {},
   "outputs": [],
   "source": [
    "def replaceSpaceByAppend(s):\n",
    "    if not isinstance(s, str) or len(s) <=0 or s == None:\n",
    "        return \"\"\n",
    "    \n",
    "    s = list(s) # 转换为列表\n",
    "    stringReplace = []\n",
    "    for item in s:\n",
    "        if item == ' ':\n",
    "            stringReplace.append('%20')\n",
    "        else:\n",
    "            stringReplace.append(item)\n",
    "            \n",
    "    return \"\".join(stringReplace)# 转换为整个字符串"
   ]
  },
  {
   "cell_type": "code",
   "execution_count": 5,
   "metadata": {},
   "outputs": [
    {
     "name": "stdout",
     "output_type": "stream",
     "text": [
      "we%20are%20happy\n"
     ]
    }
   ],
   "source": [
    "s = 'we are happy'\n",
    "print(replaceSpaceByAppend(s))"
   ]
  },
  {
   "cell_type": "markdown",
   "metadata": {},
   "source": [
    "## 3.从头到尾打印链表\n",
    "\n",
    "- **问题描述**：输入一个链表，按链表值从尾到头的顺序返回一个ArrayList。\n",
    "- **思路**：使用一个栈，保存正序遍历的值。\n",
    "- **时间复杂度**：$O(n)$"
   ]
  },
  {
   "cell_type": "code",
   "execution_count": 6,
   "metadata": {},
   "outputs": [],
   "source": [
    "class ListNode:\n",
    "    def __init__(self, x=None):\n",
    "        self.val = x\n",
    "        self.next = None\n",
    "\n",
    "def printListFromTailToHead(listNode):\n",
    "    stack = []\n",
    "    while listNode != None:\n",
    "        stack.append(listNode.val)\n",
    "        listNode = listNode.next\n",
    "    return stack[::-1] # 返回栈的反序"
   ]
  },
  {
   "cell_type": "code",
   "execution_count": 7,
   "metadata": {},
   "outputs": [
    {
     "name": "stdout",
     "output_type": "stream",
     "text": [
      "[3, 2, 1]\n"
     ]
    }
   ],
   "source": [
    "l1 = ListNode(1)\n",
    "l2 = ListNode(2)\n",
    "l3 = ListNode(3)\n",
    "l1.next = l2\n",
    "l2.next = l3\n",
    "print (printListFromTailToHead(l1))"
   ]
  },
  {
   "cell_type": "markdown",
   "metadata": {},
   "source": [
    "## 4.重建二叉树\n",
    "\n",
    "- **问题描述**：输入某二叉树的前序遍历和中序遍历的结果，请重建出该二叉树。假设输入的前序遍历和中序遍历的结果中都不含重复的数字。例如输入前序遍历序列{1,2,4,7,3,5,6,8}和中序遍历序列{4,7,2,1,5,3,8,6}，则重建出二叉树并输出它的头结点。\n",
    "- **思路**：根据中序遍历和前序遍历可以很快找到（左子树，根，右子树）的分割，用递归实现。前序遍历的第一个值一定为根节点，对应于中序遍历中间的一个点。在中序遍历序列中，这个点左侧的均为根的左子树，这个点右侧的均为根的右子树。这时可以利用递归，分别取前序遍历[1:i+1]和中序遍历的[:i]对应与左子树继续上一个过程，取前序遍历[i+1:]和中序遍历[i+1]对应于右子树继续上一个过程，最终得以重建二叉树。\n",
    "- **优点**：思路简单清晰。\n",
    "- **扩展**: [address](http://www.cnblogs.com/fzhe/archive/2013/01/07/2849040.html)"
   ]
  },
  {
   "cell_type": "code",
   "execution_count": 8,
   "metadata": {},
   "outputs": [],
   "source": [
    "class TreeNode:\n",
    "    def __init__(self, x):\n",
    "        self.val = x\n",
    "        self.left = None\n",
    "        self.right = None\n",
    "\n",
    "\n",
    "def reConstructBinaryTree(pre, tin):\n",
    "    if not pre or not tin:\n",
    "        return None\n",
    "    root = TreeNode(pre.pop(0)) # 1 in this case.\n",
    "    index = tin.index(root.val) # 3 in this case, the location of root in 中序\n",
    "    root.left = reConstructBinaryTree(pre, tin[:index])\n",
    "    root.right = reConstructBinaryTree(pre, tin[index + 1:])\n",
    "    return root\n",
    "    \n",
    "def print_tree(root_node):\n",
    "    \"\"\"层次遍历输出\"\"\"\n",
    "    travers = []\n",
    "    queue = [root_node] # 可以使用len()\n",
    "    while len(queue) > 0:\n",
    "        farther = queue.pop() # queue 传给 farther\n",
    "        travers.append(farther.val)\n",
    "        if farther:\n",
    "            if farther.left:\n",
    "                queue.insert(0, farther.left)\n",
    "            if farther.right:\n",
    "                queue.insert(0, farther.right)\n",
    "    print(travers)"
   ]
  },
  {
   "cell_type": "code",
   "execution_count": 9,
   "metadata": {},
   "outputs": [
    {
     "name": "stdout",
     "output_type": "stream",
     "text": [
      "[1, 2, 3, 4, 5, 6, 7, 8]\n"
     ]
    }
   ],
   "source": [
    "pre = [1,2,4,7,3,5,6,8]\n",
    "tin = [4,7,2,1,5,3,8,6]\n",
    "print_tree(reConstructBinaryTree(pre, tin))"
   ]
  },
  {
   "cell_type": "code",
   "execution_count": null,
   "metadata": {},
   "outputs": [],
   "source": []
  }
 ],
 "metadata": {
  "kernelspec": {
   "display_name": "Python [conda env:pytorch]",
   "language": "python",
   "name": "conda-env-pytorch-py"
  },
  "language_info": {
   "codemirror_mode": {
    "name": "ipython",
    "version": 3
   },
   "file_extension": ".py",
   "mimetype": "text/x-python",
   "name": "python",
   "nbconvert_exporter": "python",
   "pygments_lexer": "ipython3",
   "version": "3.5.6"
  }
 },
 "nbformat": 4,
 "nbformat_minor": 2
}
